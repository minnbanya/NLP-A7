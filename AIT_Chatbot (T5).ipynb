{
 "cells": [
  {
   "attachments": {},
   "cell_type": "markdown",
   "metadata": {},
   "source": [
    "# Natural Language Processing\n",
    "\n",
    "# Retrieval-Augmented generation (RAG)\n",
    "\n",
    "RAG is a technique for augmenting LLM knowledge with additional, often private or real-time, data.\n",
    "\n",
    "LLMs can reason about wide-ranging topics, but their knowledge is limited to the public data up to a specific point in time that they were trained on. If you want to build AI applications that can reason about private data or data introduced after a model’s cutoff date, you need to augment the knowledge of the model with the specific information it needs.\n",
    "\n",
    "<img src=\"../figures/RAG-process.png\" >\n",
    "\n",
    "Introducing `ChakyBot`, an innovative chatbot designed to assist Chaky (the instructor) and TA (Gun) in explaining the lesson of the NLP course to students. Leveraging LangChain technology, ChakyBot excels in retrieving information from documents, ensuring a seamless and efficient learning experience for students engaging with the NLP curriculum.\n",
    "\n",
    "1. Prompt\n",
    "2. Retrieval\n",
    "3. Memory\n",
    "4. Chain"
   ]
  },
  {
   "cell_type": "code",
   "execution_count": 1,
   "metadata": {},
   "outputs": [],
   "source": [
    "# #langchain library\n",
    "# !pip install langchain==0.1.6\n",
    "# !pip install langchain-community==0.0.19\n",
    "# #LLM\n",
    "# !pip install accelerate==0.25.0\n",
    "# !pip install transformers==4.36.2\n",
    "# !pip install bitsandbytes==0.43\n",
    "# #Text Embedding\n",
    "# !pip install sentence-transformers==2.2.2\n",
    "# !pip install InstructorEmbedding==1.0.1\n",
    "# #vectorstore\n",
    "# !pip install pymupdf==1.23.8\n",
    "# !pip install faiss-gpu==1.7.2\n",
    "# !pip install faiss-cpu==1.7.4"
   ]
  },
  {
   "cell_type": "code",
   "execution_count": 2,
   "metadata": {},
   "outputs": [
    {
     "data": {
      "text/plain": [
       "device(type='cuda')"
      ]
     },
     "execution_count": 2,
     "metadata": {},
     "output_type": "execute_result"
    }
   ],
   "source": [
    "import os\n",
    "import torch\n",
    "\n",
    "device = torch.device('cuda' if torch.cuda.is_available() else 'cpu')\n",
    "device"
   ]
  },
  {
   "attachments": {},
   "cell_type": "markdown",
   "metadata": {},
   "source": [
    "## 1. Prompt\n",
    "\n",
    "A set of instructions or input provided by a user to guide the model's response, helping it understand the context and generate relevant and coherent language-based output, such as answering questions, completing sentences, or engaging in a conversation."
   ]
  },
  {
   "cell_type": "code",
   "execution_count": 3,
   "metadata": {},
   "outputs": [
    {
     "data": {
      "text/plain": [
       "PromptTemplate(input_variables=['context', 'question'], template=\"Welcome to AITBot, your virtual assistant for all things related to the Asian Institute of Technology (AIT).\\n    Whether you're a student, faculty member, or simply curious about AIT, I'm here to provide you with information and assistance.\\n    Feel free to ask me anything about AIT, including its programs, research areas, campus facilities, and more.\\n    I'll do my best to provide you with accurate and helpful answers to your inquiries.\\n    So go ahead, ask me anything you'd like to know about AIT, and let's explore together!\\n    {context}\\n    Question: {question}\\n    Answer:\")"
      ]
     },
     "execution_count": 3,
     "metadata": {},
     "output_type": "execute_result"
    }
   ],
   "source": [
    "from langchain.prompts import PromptTemplate\n",
    "\n",
    "prompt_template = \"\"\"\n",
    "    Welcome to AITBot, your virtual assistant for all things related to the Asian Institute of Technology (AIT).\n",
    "    Whether you're a student, faculty member, or simply curious about AIT, I'm here to provide you with information and assistance.\n",
    "    Feel free to ask me anything about AIT, including its programs, research areas, campus facilities, and more.\n",
    "    I'll do my best to provide you with accurate and helpful answers to your inquiries.\n",
    "    So go ahead, ask me anything you'd like to know about AIT, and let's explore together!\n",
    "    {context}\n",
    "    Question: {question}\n",
    "    Answer:\n",
    "    \"\"\".strip()\n",
    "\n",
    "PROMPT = PromptTemplate.from_template(\n",
    "    template = prompt_template\n",
    ")\n",
    "\n",
    "PROMPT\n",
    "#using str.format \n",
    "#The placeholder is defined using curly brackets: {} {}"
   ]
  },
  {
   "cell_type": "code",
   "execution_count": 4,
   "metadata": {},
   "outputs": [
    {
     "data": {
      "text/plain": [
       "\"Welcome to AITBot, your virtual assistant for all things related to the Asian Institute of Technology (AIT).\\n    Whether you're a student, faculty member, or simply curious about AIT, I'm here to provide you with information and assistance.\\n    Feel free to ask me anything about AIT, including its programs, research areas, campus facilities, and more.\\n    I'll do my best to provide you with accurate and helpful answers to your inquiries.\\n    So go ahead, ask me anything you'd like to know about AIT, and let's explore together!\\n    Machine learning (ML) is a field of study in artificial intelligence concerned with the development and study of statistical algorithms that can effectively generalize and thus perform tasks without explicit instructions.\\n    Question: What is Machine Learning\\n    Answer:\""
      ]
     },
     "execution_count": 4,
     "metadata": {},
     "output_type": "execute_result"
    }
   ],
   "source": [
    "PROMPT.format(\n",
    "    context = \"Machine learning (ML) is a field of study in artificial intelligence concerned with the development and study of statistical algorithms that can effectively generalize and thus perform tasks without explicit instructions.\",\n",
    "    question = \"What is Machine Learning\"\n",
    ")"
   ]
  },
  {
   "attachments": {},
   "cell_type": "markdown",
   "metadata": {},
   "source": [
    "Note : [How to improve prompting (Zero-shot, Few-shot, Chain-of-Thought, etc.](https://github.com/chaklam-silpasuwanchai/Natural-Language-Processing/blob/main/Code/05%20-%20RAG/advance/cot-tot-prompting.ipynb)"
   ]
  },
  {
   "attachments": {},
   "cell_type": "markdown",
   "metadata": {},
   "source": [
    "## 2. Retrieval\n",
    "\n",
    "1. `Document loaders` : Load documents from many different sources (HTML, PDF, code). \n",
    "2. `Document transformers` : One of the essential steps in document retrieval is breaking down a large document into smaller, relevant chunks to enhance the retrieval process.\n",
    "3. `Text embedding models` : Embeddings capture the semantic meaning of the text, allowing you to quickly and efficiently find other pieces of text that are similar.\n",
    "4. `Vector stores`: there has emerged a need for databases to support efficient storage and searching of these embeddings.\n",
    "5. `Retrievers` : Once the data is in the database, you still need to retrieve it."
   ]
  },
  {
   "attachments": {},
   "cell_type": "markdown",
   "metadata": {},
   "source": [
    "### 2.1 Document Loaders \n",
    "Use document loaders to load data from a source as Document's. A Document is a piece of text and associated metadata. For example, there are document loaders for loading a simple .txt file, for loading the text contents of any web page, or even for loading a transcript of a YouTube video.\n",
    "\n",
    "[PDF Loader](https://python.langchain.com/docs/modules/data_connection/document_loaders/pdf)\n",
    "\n",
    "[Download Document](https://web.stanford.edu/~jurafsky/slp3/)"
   ]
  },
  {
   "cell_type": "code",
   "execution_count": 5,
   "metadata": {},
   "outputs": [],
   "source": [
    "from langchain.document_loaders import PyMuPDFLoader\n",
    "\n",
    "# Path to the folder containing PDF documents\n",
    "pdf_folder = 'AIT_database'\n",
    "\n",
    "# List to hold the paths of PDF documents\n",
    "pdf_paths = []\n",
    "\n",
    "# Iterate through the PDF files in the folder and collect their paths\n",
    "for filename in os.listdir(pdf_folder):\n",
    "    if filename.endswith('.pdf'):\n",
    "        pdf_paths.append(os.path.join(pdf_folder, filename))\n",
    "\n",
    "# List to hold the loaded documents\n",
    "documents = []\n",
    "\n",
    "# Create a PyMuPDFLoader instance for each PDF file\n",
    "for pdf_path in pdf_paths:\n",
    "    loader = PyMuPDFLoader(pdf_path)\n",
    "    loaded_doc = loader.load()\n",
    "    for page in loaded_doc:\n",
    "        documents.append(page)"
   ]
  },
  {
   "cell_type": "code",
   "execution_count": 6,
   "metadata": {},
   "outputs": [],
   "source": [
    "# from langchain.document_loaders import PyMuPDFLoader\n",
    "\n",
    "# nlp_docs = './AIT.pdf'\n",
    "\n",
    "# loader = PyMuPDFLoader(nlp_docs)\n",
    "# documents = loader.load()"
   ]
  },
  {
   "cell_type": "code",
   "execution_count": 7,
   "metadata": {},
   "outputs": [],
   "source": [
    "# documents"
   ]
  },
  {
   "cell_type": "code",
   "execution_count": 8,
   "metadata": {},
   "outputs": [
    {
     "data": {
      "text/plain": [
       "47"
      ]
     },
     "execution_count": 8,
     "metadata": {},
     "output_type": "execute_result"
    }
   ],
   "source": [
    "len(documents)"
   ]
  },
  {
   "cell_type": "code",
   "execution_count": 9,
   "metadata": {},
   "outputs": [
    {
     "data": {
      "text/plain": [
       "Document(page_content='Link: http://giving.ait.ac.th/student-conference-fund-4/ Document: Student Conference Fund – AIT\\nFundraising Campaign Skip to content AIT Fundraising Campaign Social Impact with Innovation Menu\\nPrimary menu AIT Transforming AIT AIT Five Key Thematic Areas Single Naming of AIT Conference\\nCenter (AITCC): A Complete Renovation Naming Opportunities & Donor Recognition How to Donate\\nGTE laboratory campaign AIT Alumni Scholarships/Student Exchange/School Lab Fund AIT Alumni\\nScholarship Fund Student Conference Fund Scholarships, Lab Equipment and Campus Facilities SOM\\nAccreditation Fund Student Exchange Scholarship Program Upgrading of the AIT International School\\nCanteen Donors Contact Us Student Conference Fund Donation Pledge for Student Conference Fund\\nThe Student Conference Fund will be primarily used to support our PhD students who receive\\ninvitations to attend prestigious conferences, workshop, seminar, etc. overseas or via webinars. This\\nwill help the students exposure to the international and most up-to-date research experience, and raise\\nthe reputation of AIT. Name of Donor (required) Address (required) City (required) State or Province\\n(required) Zipcode (required) Country (required) Email (required) Telephone (required) Thai Tax ID (In\\ncase you do not have Thai Tax ID, please type \"000\") Yes, I hereby pledge to make a contribution to\\nsupport Student Conference Fund! USD 1000 (THB 30,000) USD 2000 (THB 60,000) USD 3000 (THB\\n90,000) Please specify the purpose (required) Other Amount of Donation USD (United States Dollar)\\nwhen any single item is selected above, but THB will be used if no item is selected above. *Actual\\nexchange rate will be calculated on the date of payment. I would like to pay by Credit Card Bank\\nTransfer Donation by Bank Transfer Bank Name: Siam Commercial Bank Public Company Limited\\nAccount Name: Asian Institute of Technology Saving A/C No.: 405-9995670 (Thai Baht and USD)\\nBranch: Thammasart University Hospital Branch Address: 95 Moo 8, Klongnueng, Klong Luang,\\nPathumthani 12120, Thailand Swift Code: SICOTHBK Upload Pay-in slip (png, jpeg or jpg) (Please\\nsend the scanned copy of the pay-in slip to oaaa@ait.ac.th ) Cheque payable to ASIAN INSTITUTE OF\\nTECHNOLOGY Upload Pay-in slip (png, jpeg or jpg) (Please send the scanned copy of the pay-in slip\\nto oaaa@ait.ac.th ) Type of Credit Card VISA MASTER (Please note that Credit Card payment of more\\nthan 9,999,999 THB is not accepted by SBC payment. Please kindly use Bank Transfer.) Receipt to be\\nissued to (required) Address Donor\\'s name (required) For donors in Thailand, the donors can claim the\\ndonated amount as tax expense, as AIT is registered as No. 86 Non-profit organization with the Ministry\\nof Finance. Search for: Search Office of Advancement and Alumni Affairs P.O. Box 4, 58 M.9 Klong\\nNeung Klong Luang, Pathumthani 12120 Thailand Tel: 0(+66)2524- 6318 and 6336 Email:\\noaaa@ait.ac.th/ aru@ait.ac.th Copyright © 2024 AIT Fundraising Campaign . All Rights Reserved.\\nClean Education by Catch Themes Scroll Up\\n', metadata={'source': 'AIT_database\\\\Document_10.pdf', 'file_path': 'AIT_database\\\\Document_10.pdf', 'page': 0, 'total_pages': 1, 'format': 'PDF 1.4', 'title': '(anonymous)', 'author': '(anonymous)', 'subject': '(unspecified)', 'keywords': '', 'creator': '(unspecified)', 'producer': 'ReportLab PDF Library - www.reportlab.com', 'creationDate': \"D:20240320144950-07'00'\", 'modDate': \"D:20240320144950-07'00'\", 'trapped': ''})"
      ]
     },
     "execution_count": 9,
     "metadata": {},
     "output_type": "execute_result"
    }
   ],
   "source": [
    "documents[2]"
   ]
  },
  {
   "attachments": {},
   "cell_type": "markdown",
   "metadata": {},
   "source": [
    "### 2.2 Document Transformers\n",
    "\n",
    "This text splitter is the recommended one for generic text. It is parameterized by a list of characters. It tries to split on them in order until the chunks are small enough"
   ]
  },
  {
   "cell_type": "code",
   "execution_count": 10,
   "metadata": {},
   "outputs": [],
   "source": [
    "from langchain.text_splitter import RecursiveCharacterTextSplitter\n",
    "\n",
    "text_splitter = RecursiveCharacterTextSplitter(\n",
    "    chunk_size = 700,\n",
    "    chunk_overlap = 100\n",
    ")\n",
    "\n",
    "doc = text_splitter.split_documents(documents)"
   ]
  },
  {
   "cell_type": "code",
   "execution_count": 11,
   "metadata": {},
   "outputs": [
    {
     "data": {
      "text/plain": [
       "Document(page_content='1974 •Key activities • Graduation Ceremonies and Cultural Shows • International/Local\\nConferences/Seminars/Training programs • Intergovernmental events •Current Equipment and\\nFacilities • 500-Seat Auditorium • Continue Reading Naming Opportunities and Donor Recognition\\nPosted on February 22, 2019 By alumniaffairs To express appreciation to our donors, AIT provides\\nmany types of naming recognition opportunities. Naming of the building will be for the life of the\\nbuilding. Same for facilities. Naming of endowed professorships will be perpetual. Naming of\\nScholarships and Continue Reading OFFICE OF ADVANCEMENT AND ALUMNI AFFAIRS Message', metadata={'source': 'AIT_database\\\\Document_1.pdf', 'file_path': 'AIT_database\\\\Document_1.pdf', 'page': 0, 'total_pages': 2, 'format': 'PDF 1.4', 'title': '(anonymous)', 'author': '(anonymous)', 'subject': '(unspecified)', 'keywords': '', 'creator': '(unspecified)', 'producer': 'ReportLab PDF Library - www.reportlab.com', 'creationDate': \"D:20240320144950-07'00'\", 'modDate': \"D:20240320144950-07'00'\", 'trapped': ''})"
      ]
     },
     "execution_count": 11,
     "metadata": {},
     "output_type": "execute_result"
    }
   ],
   "source": [
    "doc[2]"
   ]
  },
  {
   "cell_type": "code",
   "execution_count": 12,
   "metadata": {},
   "outputs": [
    {
     "data": {
      "text/plain": [
       "237"
      ]
     },
     "execution_count": 12,
     "metadata": {},
     "output_type": "execute_result"
    }
   ],
   "source": [
    "len(doc)"
   ]
  },
  {
   "attachments": {},
   "cell_type": "markdown",
   "metadata": {},
   "source": [
    "### 2.3 Text Embedding Models\n",
    "Embeddings create a vector representation of a piece of text. This is useful because it means we can think about text in the vector space, and do things like semantic search where we look for pieces of text that are most similar in the vector space.\n",
    "\n",
    "*Note* Instructor Model : [Huggingface](gingface.co/hkunlp/instructor-base) | [Paper](https://arxiv.org/abs/2212.09741)"
   ]
  },
  {
   "cell_type": "code",
   "execution_count": 13,
   "metadata": {},
   "outputs": [
    {
     "name": "stderr",
     "output_type": "stream",
     "text": [
      "C:\\Users\\minnb\\AppData\\Local\\Packages\\PythonSoftwareFoundation.Python.3.11_qbz5n2kfra8p0\\LocalCache\\local-packages\\Python311\\site-packages\\InstructorEmbedding\\instructor.py:7: TqdmWarning: IProgress not found. Please update jupyter and ipywidgets. See https://ipywidgets.readthedocs.io/en/stable/user_install.html\n",
      "  from tqdm.autonotebook import trange\n"
     ]
    },
    {
     "name": "stdout",
     "output_type": "stream",
     "text": [
      "load INSTRUCTOR_Transformer\n",
      "max_seq_length  512\n"
     ]
    }
   ],
   "source": [
    "import torch\n",
    "from langchain_community.embeddings import HuggingFaceInstructEmbeddings\n",
    "\n",
    "model_name = 'hkunlp/instructor-base'\n",
    "\n",
    "embedding_model = HuggingFaceInstructEmbeddings(\n",
    "    model_name = model_name,\n",
    "    model_kwargs = {\"device\" : device}\n",
    ")"
   ]
  },
  {
   "attachments": {},
   "cell_type": "markdown",
   "metadata": {},
   "source": [
    "### 2.4 Vector Stores\n",
    "\n",
    "One of the most common ways to store and search over unstructured data is to embed it and store the resulting embedding vectors, and then at query time to embed the unstructured query and retrieve the embedding vectors that are 'most similar' to the embedded query. A vector store takes care of storing embedded data and performing vector search for you."
   ]
  },
  {
   "cell_type": "code",
   "execution_count": 14,
   "metadata": {},
   "outputs": [],
   "source": [
    "#locate vectorstore\n",
    "vector_path = './vector-store'\n",
    "if not os.path.exists(vector_path):\n",
    "    os.makedirs(vector_path)\n",
    "    print('create path done')"
   ]
  },
  {
   "cell_type": "code",
   "execution_count": 15,
   "metadata": {},
   "outputs": [],
   "source": [
    "#save vector locally\n",
    "from langchain_community.vectorstores import FAISS\n",
    "\n",
    "vectordb = FAISS.from_documents(\n",
    "    documents = doc,\n",
    "    embedding = embedding_model\n",
    ")\n",
    "\n",
    "db_file_name = 'nlp_ait'\n",
    "\n",
    "vectordb.save_local(\n",
    "    folder_path = os.path.join(vector_path, db_file_name),\n",
    "    index_name = 'nlp' #default index\n",
    ")"
   ]
  },
  {
   "attachments": {},
   "cell_type": "markdown",
   "metadata": {},
   "source": [
    "### 2.5 retrievers\n",
    "A retriever is an interface that returns documents given an unstructured query. It is more general than a vector store. A retriever does not need to be able to store documents, only to return (or retrieve) them. Vector stores can be used as the backbone of a retriever, but there are other types of retrievers as well."
   ]
  },
  {
   "cell_type": "code",
   "execution_count": 16,
   "metadata": {},
   "outputs": [],
   "source": [
    "#calling vector from local\n",
    "vector_path = './vector-store'\n",
    "db_file_name = 'nlp_ait'\n",
    "\n",
    "from langchain.vectorstores import FAISS\n",
    "\n",
    "vectordb = FAISS.load_local(\n",
    "    folder_path = os.path.join(vector_path, db_file_name),\n",
    "    embeddings = embedding_model,\n",
    "    index_name = 'nlp' #default index\n",
    ")   "
   ]
  },
  {
   "cell_type": "code",
   "execution_count": 17,
   "metadata": {},
   "outputs": [],
   "source": [
    "#ready to use\n",
    "retriever = vectordb.as_retriever()"
   ]
  },
  {
   "cell_type": "code",
   "execution_count": 18,
   "metadata": {},
   "outputs": [
    {
     "data": {
      "text/plain": [
       "[Document(page_content='Communications Co., Ltd. 1 CPU for SERD at the student’s computer lab. 4 URC Thailand Co., Ltd. 2\\nbox each: Fun-O Emoji, Dewberry Strawberry, Magic Twin Jumbo Butter for students at Organizational\\nQuarantine facility and AIT International School 5 Mr. Umer H. Al-Qureshi 50 Rapid Antigen test kits for\\nCovid-19 6 i-bitz Co., Ltd. Vallaris software to RS&GIS; program Books S.N. DONORS TITLE OF\\nBOOKS USAGE 1 AITAA Hong Kong & Macau 1. China’s Pan-Pearl River Delta: Regional Cooperation\\nand Development 2. The Social Embeddedness of Industrial Ecology 3. Governance and planning of\\nMega-City Regions: an international comparative perspective 4. AIT Celebration of The 30th (2 copies)', metadata={'source': 'AIT_database\\\\Document_27.pdf', 'file_path': 'AIT_database\\\\Document_27.pdf', 'page': 0, 'total_pages': 1, 'format': 'PDF 1.4', 'title': '(anonymous)', 'author': '(anonymous)', 'subject': '(unspecified)', 'keywords': '', 'creator': '(unspecified)', 'producer': 'ReportLab PDF Library - www.reportlab.com', 'creationDate': \"D:20240320144950-07'00'\", 'modDate': \"D:20240320144950-07'00'\", 'trapped': ''}),\n",
       " Document(page_content='Management, SERD for Myanmar, Laos, Cambodia, Vietnam and China (only from Yunnan province)\\n-Covers 42 credits Tuition Fees each student 9 Government of Nepal Masters scholarships in SERD,\\nSET and SOM 10 Mr. Bhargab Mohan Das (SE 2005) Prof Emeritus Madan Mohan Das Memorial\\nScholarship The first agreement on Masters scholarships in Civil Engineering, SET for Assam, India or\\nThai nationality -Covers 24 credits Tuition Fee (12 credits for the 1 st semester and 12 credits for the 2\\nnd semester) and Registration Fee (2 semesters) Condition for the continuation to the 2 nd semester:\\nThe student should obtain a CGPA – 3.0 in the 1 st semester to avail the scholarship for the 2 nd', metadata={'source': 'AIT_database\\\\Document_18.pdf', 'file_path': 'AIT_database\\\\Document_18.pdf', 'page': 0, 'total_pages': 4, 'format': 'PDF 1.4', 'title': '(anonymous)', 'author': '(anonymous)', 'subject': '(unspecified)', 'keywords': '', 'creator': '(unspecified)', 'producer': 'ReportLab PDF Library - www.reportlab.com', 'creationDate': \"D:20240320144950-07'00'\", 'modDate': \"D:20240320144950-07'00'\", 'trapped': ''}),\n",
       " Document(page_content='Plastics Abatement program (MPA) 34 Mr. Harry (Kiwi) Kasuma Aliwarga 24 Credits and 4 semesters\\nregistration fee for one Myanmar student 35 Mr. Jaime and Mrs. Elisa del Rosario One full Master’s\\nscholarship 36 Mr. Pote Narritakurn 24 Credits and 4 semesters registration fee and other costs 37 Mr.\\nSriyan Pietersz One full master’s scholarship for Professional Master in Data Science 38 Belt & Road\\nscholarship Master’s or PhD degree in SERD Any nationality 39 Pan Merit Belt & Road scholarship\\nStudents from Belt and Road countries Any programs in SET and SOM 40 Tech Globe Co., Ltd. One\\nfull master’s scholarship for any nationalities in Data Science and AI program 41 EGAT For EGAT', metadata={'source': 'AIT_database\\\\Document_18.pdf', 'file_path': 'AIT_database\\\\Document_18.pdf', 'page': 1, 'total_pages': 4, 'format': 'PDF 1.4', 'title': '(anonymous)', 'author': '(anonymous)', 'subject': '(unspecified)', 'keywords': '', 'creator': '(unspecified)', 'producer': 'ReportLab PDF Library - www.reportlab.com', 'creationDate': \"D:20240320144950-07'00'\", 'modDate': \"D:20240320144950-07'00'\", 'trapped': ''}),\n",
       " Document(page_content='full master’s scholarship for any nationalities in Data Science and AI program 41 EGAT For EGAT\\nEmployees to study Master’s degree in any Schools (to be decided by EGAT) 42 University Grants\\nCommision, Sri Lanka (UGC) MPhil or Master’s degree SERD, SET, SOM 43 General Sir John\\nKotelawala Defence University (KDU), Sri Lanka 3 PhD/2 Masters SERD, SET, SOM 44 Advanced Info\\nServices PCL Five full master’s scholarship for AIS employee or AIT student (one student per year for\\nfive years period) 45 Bridgex Scholarship Preferred Malaysian nationality To enroll in Structural\\nEngineering, SET 46 University of Sri Jayewardenepura, Sri Lanka For probationary lecture to enroll in', metadata={'source': 'AIT_database\\\\Document_18.pdf', 'file_path': 'AIT_database\\\\Document_18.pdf', 'page': 1, 'total_pages': 4, 'format': 'PDF 1.4', 'title': '(anonymous)', 'author': '(anonymous)', 'subject': '(unspecified)', 'keywords': '', 'creator': '(unspecified)', 'producer': 'ReportLab PDF Library - www.reportlab.com', 'creationDate': \"D:20240320144950-07'00'\", 'modDate': \"D:20240320144950-07'00'\", 'trapped': ''})]"
      ]
     },
     "execution_count": 18,
     "metadata": {},
     "output_type": "execute_result"
    }
   ],
   "source": [
    "retriever.get_relevant_documents(\"What is Dependency Parsing\")"
   ]
  },
  {
   "cell_type": "code",
   "execution_count": 19,
   "metadata": {},
   "outputs": [
    {
     "data": {
      "text/plain": [
       "[Document(page_content='1 Sheila Jay Demafeliz Wee Eng (GTE’86) Purchase GTE Laboratory equipment 2 Mr. Shih-Yi George\\nChen Purchase GTE Laboratory equipment 3 Mr. Chawalit Tanomtin Purchase GTE Laboratory\\nequipment 4 Dr. Thumanoon Susumpow Purchase STE Laboratory equipment 5 Continue Reading\\nCategories Transforming AIT AIT Faculty and Staff Donations Posted on July 3, 2020 June 30, 2022\\nCategories Transforming AIT Search for: Search Office of Advancement and Alumni Affairs P.O. Box 4,\\n58 M.9 Klong Neung Klong Luang, Pathumthani 12120 Thailand Tel: 0(+66)2524- 6318 and 6336\\nEmail: oaaa@ait.ac.th/ aru@ait.ac.th Copyright © 2024 AIT Fundraising Campaign . All Rights', metadata={'source': 'AIT_database\\\\Document_34.pdf', 'file_path': 'AIT_database\\\\Document_34.pdf', 'page': 0, 'total_pages': 1, 'format': 'PDF 1.4', 'title': '(anonymous)', 'author': '(anonymous)', 'subject': '(unspecified)', 'keywords': '', 'creator': '(unspecified)', 'producer': 'ReportLab PDF Library - www.reportlab.com', 'creationDate': \"D:20240320144950-07'00'\", 'modDate': \"D:20240320144950-07'00'\", 'trapped': ''}),\n",
       " Document(page_content='Link: https://twitter.com/aitasia Document: This browser is no longer supported. Please switch to a\\nsupported browser to continue using twitter.com. You can see a list of supported browsers in our Help\\nCenter. Help Center Terms of Service Privacy Policy Cookie Policy Imprint Ads info © 2024 X Corp.', metadata={'source': 'AIT_database\\\\Document_2.pdf', 'file_path': 'AIT_database\\\\Document_2.pdf', 'page': 0, 'total_pages': 1, 'format': 'PDF 1.4', 'title': '(anonymous)', 'author': '(anonymous)', 'subject': '(unspecified)', 'keywords': '', 'creator': '(unspecified)', 'producer': 'ReportLab PDF Library - www.reportlab.com', 'creationDate': \"D:20240320144950-07'00'\", 'modDate': \"D:20240320144950-07'00'\", 'trapped': ''}),\n",
       " Document(page_content='allocating the new equipment is 7,000,000 Baht. Direct Shear Test Triaxial Test Ring Shear Test\\nAutomatic Oedometer Test Universal Testing Machine Chlorimeter Xenon Arc Benefits to the Donors:\\n(1) 200% tax allowance deduction concession (2) Participate in developing state-of-the-art laboratory\\nfacilities necessary to support laboratory testing services to the industry. (3) Enhance our student’s\\nskills with modern laboratory equipment to prepare them to be career-ready. Contact: Office of\\nAdvancement and Alumni Affairs (OAAA) Asian Institute of Technology Tel: +66 2 524 6318 Email:\\nlucena@ait.asia For more information: Geotechnical Laboratory Asian Institute of Technology Tel: +66', metadata={'source': 'AIT_database\\\\Document_7.pdf', 'file_path': 'AIT_database\\\\Document_7.pdf', 'page': 0, 'total_pages': 1, 'format': 'PDF 1.4', 'title': '(anonymous)', 'author': '(anonymous)', 'subject': '(unspecified)', 'keywords': '', 'creator': '(unspecified)', 'producer': 'ReportLab PDF Library - www.reportlab.com', 'creationDate': \"D:20240320144950-07'00'\", 'modDate': \"D:20240320144950-07'00'\", 'trapped': ''}),\n",
       " Document(page_content='Dr. Kreingkrai Satapornvanit AIT Reserve Fund 5 Dr. Arlene Satapornvanit AIT Reserve Fund Continue\\nReading Categories Transforming AIT Student Conference Fund Posted on October 7, 2021 June 30,\\n2022 Categories Transforming AIT AIT Digital Media Lab Posted on November 26, 2020 June 30, 2022\\nS.N. Donor Purpose 1 Associate Professor Dr. Suvit Tia and Alumni Friends Support towards AIT\\nDigital Media Lab Categories Transforming AIT Updating Laboratory Equipment Posted on November\\n9, 2020 October 28, 2022 Leave a comment S.N. DONORS USAGES 1 Sheila Jay Demafeliz Wee Eng\\n(GTE’86) Purchase GTE Laboratory equipment 2 Mr. Shih-Yi George Chen Purchase GTE Laboratory', metadata={'source': 'AIT_database\\\\Document_17.pdf', 'file_path': 'AIT_database\\\\Document_17.pdf', 'page': 0, 'total_pages': 1, 'format': 'PDF 1.4', 'title': '(anonymous)', 'author': '(anonymous)', 'subject': '(unspecified)', 'keywords': '', 'creator': '(unspecified)', 'producer': 'ReportLab PDF Library - www.reportlab.com', 'creationDate': \"D:20240320144950-07'00'\", 'modDate': \"D:20240320144950-07'00'\", 'trapped': ''})]"
      ]
     },
     "execution_count": 19,
     "metadata": {},
     "output_type": "execute_result"
    }
   ],
   "source": [
    "retriever.get_relevant_documents(\"What is Transformers\")"
   ]
  },
  {
   "attachments": {},
   "cell_type": "markdown",
   "metadata": {},
   "source": [
    "## 3. Memory\n",
    "\n",
    "One of the core utility classes underpinning most (if not all) memory modules is the ChatMessageHistory class. This is a super lightweight wrapper that provides convenience methods for saving HumanMessages, AIMessages, and then fetching them all.\n",
    "\n",
    "You may want to use this class directly if you are managing memory outside of a chain.\n"
   ]
  },
  {
   "cell_type": "code",
   "execution_count": 20,
   "metadata": {},
   "outputs": [
    {
     "data": {
      "text/plain": [
       "ChatMessageHistory(messages=[])"
      ]
     },
     "execution_count": 20,
     "metadata": {},
     "output_type": "execute_result"
    }
   ],
   "source": [
    "from langchain.memory import ChatMessageHistory\n",
    "\n",
    "history = ChatMessageHistory()\n",
    "history"
   ]
  },
  {
   "cell_type": "code",
   "execution_count": 21,
   "metadata": {},
   "outputs": [],
   "source": [
    "history.add_user_message('hi')\n",
    "history.add_ai_message('Whats up?')\n",
    "history.add_user_message('How are you')\n",
    "history.add_ai_message('I\\'m quite good. How about you?')"
   ]
  },
  {
   "cell_type": "code",
   "execution_count": 22,
   "metadata": {},
   "outputs": [
    {
     "data": {
      "text/plain": [
       "ChatMessageHistory(messages=[HumanMessage(content='hi'), AIMessage(content='Whats up?'), HumanMessage(content='How are you'), AIMessage(content=\"I'm quite good. How about you?\")])"
      ]
     },
     "execution_count": 22,
     "metadata": {},
     "output_type": "execute_result"
    }
   ],
   "source": [
    "history"
   ]
  },
  {
   "attachments": {},
   "cell_type": "markdown",
   "metadata": {},
   "source": [
    "### 3.1 Memory types\n",
    "\n",
    "There are many different types of memory. Each has their own parameters, their own return types, and is useful in different scenarios. \n",
    "- Converstaion Buffer\n",
    "- Converstaion Buffer Window"
   ]
  },
  {
   "attachments": {},
   "cell_type": "markdown",
   "metadata": {},
   "source": [
    "What variables get returned from memory\n",
    "\n",
    "Before going into the chain, various variables are read from memory. These have specific names which need to align with the variables the chain expects. You can see what these variables are by calling memory.load_memory_variables({}). Note that the empty dictionary that we pass in is just a placeholder for real variables. If the memory type you are using is dependent upon the input variables, you may need to pass some in."
   ]
  },
  {
   "attachments": {},
   "cell_type": "markdown",
   "metadata": {},
   "source": [
    "In this case, you can see that load_memory_variables returns a single key, history. This means that your chain (and likely your prompt) should expect an input named history. You can usually control this variable through parameters on the memory class. For example, if you want the memory variables to be returned in the key chat_history you can do:"
   ]
  },
  {
   "attachments": {},
   "cell_type": "markdown",
   "metadata": {},
   "source": [
    "#### Converstaion Buffer\n",
    "This memory allows for storing messages and then extracts the messages in a variable."
   ]
  },
  {
   "cell_type": "code",
   "execution_count": 23,
   "metadata": {},
   "outputs": [
    {
     "data": {
      "text/plain": [
       "{'history': \"Human: hi\\nAI: What's up?\\nHuman: How are you?\\nAI: I'm quite good. How about you?\"}"
      ]
     },
     "execution_count": 23,
     "metadata": {},
     "output_type": "execute_result"
    }
   ],
   "source": [
    "from langchain.memory import ConversationBufferMemory\n",
    "\n",
    "memory = ConversationBufferMemory()\n",
    "memory.save_context({'input':'hi'}, {'output':'What\\'s up?'})\n",
    "memory.save_context({\"input\":'How are you?'},{'output': 'I\\'m quite good. How about you?'})\n",
    "memory.load_memory_variables({})"
   ]
  },
  {
   "cell_type": "code",
   "execution_count": 24,
   "metadata": {},
   "outputs": [
    {
     "data": {
      "text/plain": [
       "{'history': [HumanMessage(content='hi'),\n",
       "  AIMessage(content=\"What's up?\"),\n",
       "  HumanMessage(content='How are you?'),\n",
       "  AIMessage(content=\"I'm quite good. How about you?\")]}"
      ]
     },
     "execution_count": 24,
     "metadata": {},
     "output_type": "execute_result"
    }
   ],
   "source": [
    "from langchain.memory import ConversationBufferMemory\n",
    "\n",
    "memory = ConversationBufferMemory(return_messages = True)\n",
    "memory.save_context({'input':'hi'}, {'output':'What\\'s up?'})\n",
    "memory.save_context({\"input\":'How are you?'},{'output': 'I\\'m quite good. How about you?'})\n",
    "memory.load_memory_variables({})"
   ]
  },
  {
   "attachments": {},
   "cell_type": "markdown",
   "metadata": {},
   "source": [
    "#### Conversation Buffer Window\n",
    "- it keeps a list of the interactions of the conversation over time. \n",
    "- it only uses the last K interactions. \n",
    "- it can be useful for keeping a sliding window of the most recent interactions, so the buffer does not get too large."
   ]
  },
  {
   "cell_type": "code",
   "execution_count": 25,
   "metadata": {},
   "outputs": [
    {
     "data": {
      "text/plain": [
       "{'history': \"Human: How are you?\\nAI: I'm quite good. How about you?\"}"
      ]
     },
     "execution_count": 25,
     "metadata": {},
     "output_type": "execute_result"
    }
   ],
   "source": [
    "from langchain.memory import ConversationBufferWindowMemory\n",
    "\n",
    "memory = ConversationBufferWindowMemory(k=1)\n",
    "memory.save_context({'input':'hi'}, {'output':'What\\'s up?'})\n",
    "memory.save_context({\"input\":'How are you?'},{'output': 'I\\'m quite good. How about you?'})\n",
    "memory.load_memory_variables({})"
   ]
  },
  {
   "attachments": {},
   "cell_type": "markdown",
   "metadata": {},
   "source": [
    "## 4. Chain\n",
    "\n",
    "Using an LLM in isolation is fine for simple applications, but more complex applications require chaining LLMs - either with each other or with other components.\n",
    "\n",
    "An `LLMChain` is a simple chain that adds some functionality around language models.\n",
    "- it consists of a `PromptTemplate` and a `LM` (either an LLM or chat model).\n",
    "- it formats the prompt template using the input key values provided (and also memory key values, if available), \n",
    "- it passes the formatted string to LLM and returns the LLM output.\n",
    "\n",
    "Note : [Download Fastchat Model Here](https://huggingface.co/lmsys/fastchat-t5-3b-v1.0)"
   ]
  },
  {
   "cell_type": "code",
   "execution_count": null,
   "metadata": {},
   "outputs": [],
   "source": [
    "#locate models\n",
    "model_path = './models'\n",
    "if not os.path.exists(model_path):\n",
    "    os.makedirs(model_path)\n",
    "    print('create path done')"
   ]
  },
  {
   "cell_type": "code",
   "execution_count": 26,
   "metadata": {},
   "outputs": [],
   "source": [
    "%cd ./models\n",
    "!git clone https://huggingface.co/lmsys/fastchat-t5-3b-v1.0"
   ]
  },
  {
   "cell_type": "code",
   "execution_count": 27,
   "metadata": {},
   "outputs": [
    {
     "name": "stderr",
     "output_type": "stream",
     "text": [
      "You are using the default legacy behaviour of the <class 'transformers.models.t5.tokenization_t5.T5Tokenizer'>. This is expected, and simply means that the `legacy` (previous) behavior will be used so nothing changes for you. If you want to use the new behaviour, set `legacy=False`. This should only be set if you understand what it means, and thouroughly read the reason why this was added as explained in https://github.com/huggingface/transformers/pull/24565\n"
     ]
    },
    {
     "name": "stderr",
     "output_type": "stream",
     "text": [
      "Special tokens have been added in the vocabulary, make sure the associated word embeddings are fine-tuned or trained.\n",
      "Special tokens have been added in the vocabulary, make sure the associated word embeddings are fine-tuned or trained.\n"
     ]
    }
   ],
   "source": [
    "from transformers import AutoTokenizer, pipeline, AutoModelForSeq2SeqLM\n",
    "from transformers import BitsAndBytesConfig\n",
    "from langchain import HuggingFacePipeline\n",
    "import torch\n",
    "\n",
    "model_id = './models/fastchat-t5-3b-v1.0/'\n",
    "\n",
    "tokenizer = AutoTokenizer.from_pretrained(\n",
    "    model_id)\n",
    "\n",
    "tokenizer.pad_token_id = tokenizer.eos_token_id\n",
    "\n",
    "bitsandbyte_config = BitsAndBytesConfig(\n",
    "    load_in_4bit = True,\n",
    "    bnb_4bit_quant_type = \"nf4\",\n",
    "    bnb_4bit_compute_dtype = torch.float16,\n",
    "    bnb_4bit_use_double_quant = True\n",
    ")\n",
    "\n",
    "model = AutoModelForSeq2SeqLM.from_pretrained(\n",
    "    model_id,\n",
    "    quantization_config = bitsandbyte_config, #caution Nvidia\n",
    "    device_map = 'cuda:0',\n",
    "    load_in_8bit = True\n",
    ")\n",
    "\n",
    "pipe = pipeline(\n",
    "    task=\"text2text-generation\",\n",
    "    model=model,\n",
    "    tokenizer=tokenizer,\n",
    "    max_new_tokens = 256,\n",
    "    model_kwargs = {\n",
    "        \"temperature\" : 0,\n",
    "        \"repetition_penalty\": 1.5\n",
    "    }\n",
    ")\n",
    "\n",
    "llm = HuggingFacePipeline(pipeline = pipe)"
   ]
  },
  {
   "cell_type": "code",
   "execution_count": 28,
   "metadata": {},
   "outputs": [],
   "source": [
    "# from transformers import AutoTokenizer, AutoModelForCausalLM\n",
    "# from transformers import BitsAndBytesConfig\n",
    "# from langchain import HuggingFacePipeline\n",
    "# import torch\n",
    "\n",
    "# model_id = './models/gpt2-span-head-few-shot-k-16-finetuned-squad-seed-0/'\n",
    "\n",
    "# tokenizer = AutoTokenizer.from_pretrained(\n",
    "#     model_id)\n",
    "\n",
    "# tokenizer.pad_token_id = tokenizer.eos_token_id\n",
    "\n",
    "# bitsandbyte_config = BitsAndBytesConfig(\n",
    "#     load_in_4bit=True,\n",
    "#     bnb_4bit_quant_type=\"nf4\",\n",
    "#     bnb_4bit_compute_dtype=torch.float16,\n",
    "#     bnb_4bit_use_double_quant=True\n",
    "# )\n",
    "\n",
    "# model = AutoModelForCausalLM.from_pretrained(\n",
    "#     model_id,\n",
    "#     quantization_config=bitsandbyte_config,\n",
    "#     device_map='cuda:0',\n",
    "#     load_in_8bit=True\n",
    "# )\n",
    "\n",
    "# pipe = pipeline(\n",
    "#     model=model,\n",
    "#     tokenizer=tokenizer,\n",
    "#     task=\"text-generation\",\n",
    "#     max_new_tokens=256,\n",
    "#     model_kwargs={\n",
    "#         \"temperature\": 0,\n",
    "#         \"repetition_penalty\": 1.5\n",
    "#     }\n",
    "# )\n",
    "\n",
    "# llm = HuggingFacePipeline(pipeline=pipe)\n"
   ]
  },
  {
   "attachments": {},
   "cell_type": "markdown",
   "metadata": {},
   "source": [
    "### [Class ConversationalRetrievalChain](https://api.python.langchain.com/en/latest/_modules/langchain/chains/conversational_retrieval/base.html#ConversationalRetrievalChain)\n",
    "\n",
    "- `retriever` : Retriever to use to fetch documents.\n",
    "\n",
    "- `combine_docs_chain` : The chain used to combine any retrieved documents.\n",
    "\n",
    "- `question_generator`: The chain used to generate a new question for the sake of retrieval. This chain will take in the current question (with variable question) and any chat history (with variable chat_history) and will produce a new standalone question to be used later on.\n",
    "\n",
    "- `return_source_documents` : Return the retrieved source documents as part of the final result.\n",
    "\n",
    "- `get_chat_history` : An optional function to get a string of the chat history. If None is provided, will use a default.\n",
    "\n",
    "- `return_generated_question` : Return the generated question as part of the final result.\n",
    "\n",
    "- `response_if_no_docs_found` : If specified, the chain will return a fixed response if no docs are found for the question.\n"
   ]
  },
  {
   "attachments": {},
   "cell_type": "markdown",
   "metadata": {},
   "source": [
    "`question_generator`"
   ]
  },
  {
   "cell_type": "code",
   "execution_count": 29,
   "metadata": {},
   "outputs": [],
   "source": [
    "from langchain.chains import LLMChain\n",
    "from langchain.chains.conversational_retrieval.prompts import CONDENSE_QUESTION_PROMPT\n",
    "from langchain.memory import ConversationBufferWindowMemory\n",
    "from langchain.chains.question_answering import load_qa_chain\n",
    "from langchain.chains import ConversationalRetrievalChain"
   ]
  },
  {
   "cell_type": "code",
   "execution_count": 30,
   "metadata": {},
   "outputs": [
    {
     "data": {
      "text/plain": [
       "PromptTemplate(input_variables=['chat_history', 'question'], template='Given the following conversation and a follow up question, rephrase the follow up question to be a standalone question, in its original language.\\n\\nChat History:\\n{chat_history}\\nFollow Up Input: {question}\\nStandalone question:')"
      ]
     },
     "execution_count": 30,
     "metadata": {},
     "output_type": "execute_result"
    }
   ],
   "source": [
    "CONDENSE_QUESTION_PROMPT"
   ]
  },
  {
   "cell_type": "code",
   "execution_count": 31,
   "metadata": {},
   "outputs": [],
   "source": [
    "question_generator = LLMChain(\n",
    "    llm = llm,\n",
    "    prompt = CONDENSE_QUESTION_PROMPT,\n",
    "    verbose = True\n",
    ")"
   ]
  },
  {
   "cell_type": "code",
   "execution_count": 32,
   "metadata": {},
   "outputs": [
    {
     "name": "stderr",
     "output_type": "stream",
     "text": [
      "C:\\Users\\minnb\\AppData\\Local\\Packages\\PythonSoftwareFoundation.Python.3.11_qbz5n2kfra8p0\\LocalCache\\local-packages\\Python311\\site-packages\\langchain_core\\_api\\deprecation.py:117: LangChainDeprecationWarning: The function `__call__` was deprecated in LangChain 0.1.0 and will be removed in 0.2.0. Use invoke instead.\n",
      "  warn_deprecated(\n"
     ]
    },
    {
     "name": "stdout",
     "output_type": "stream",
     "text": [
      "\n",
      "\n",
      "\u001b[1m> Entering new LLMChain chain...\u001b[0m\n",
      "Prompt after formatting:\n",
      "\u001b[32;1m\u001b[1;3mGiven the following conversation and a follow up question, rephrase the follow up question to be a standalone question, in its original language.\n",
      "\n",
      "Chat History:\n",
      "Human:What is Machine Learning\n",
      "AI:\n",
      "Human:What is Deep Learning\n",
      "AI:\n",
      "Follow Up Input: Comparing both of them\n",
      "Standalone question:\u001b[0m\n",
      "\n",
      "\u001b[1m> Finished chain.\u001b[0m\n"
     ]
    },
    {
     "data": {
      "text/plain": [
       "{'chat_history': 'Human:What is Machine Learning\\nAI:\\nHuman:What is Deep Learning\\nAI:',\n",
       " 'question': 'Comparing both of them',\n",
       " 'text': '<pad> What  is  the  difference  between  Machine  Learning  and  Deep  Learning  AI?\\n'}"
      ]
     },
     "execution_count": 32,
     "metadata": {},
     "output_type": "execute_result"
    }
   ],
   "source": [
    "query = 'Comparing both of them'\n",
    "chat_history = \"Human:What is Machine Learning\\nAI:\\nHuman:What is Deep Learning\\nAI:\"\n",
    "\n",
    "question_generator({'chat_history' : chat_history, \"question\" : query})"
   ]
  },
  {
   "attachments": {},
   "cell_type": "markdown",
   "metadata": {},
   "source": [
    "`combine_docs_chain`"
   ]
  },
  {
   "cell_type": "code",
   "execution_count": 33,
   "metadata": {},
   "outputs": [
    {
     "data": {
      "text/plain": [
       "StuffDocumentsChain(verbose=True, llm_chain=LLMChain(verbose=True, prompt=PromptTemplate(input_variables=['context', 'question'], template=\"Welcome to AITBot, your virtual assistant for all things related to the Asian Institute of Technology (AIT).\\n    Whether you're a student, faculty member, or simply curious about AIT, I'm here to provide you with information and assistance.\\n    Feel free to ask me anything about AIT, including its programs, research areas, campus facilities, and more.\\n    I'll do my best to provide you with accurate and helpful answers to your inquiries.\\n    So go ahead, ask me anything you'd like to know about AIT, and let's explore together!\\n    {context}\\n    Question: {question}\\n    Answer:\"), llm=HuggingFacePipeline(pipeline=<transformers.pipelines.text2text_generation.Text2TextGenerationPipeline object at 0x000002B279560F90>)), document_variable_name='context')"
      ]
     },
     "execution_count": 33,
     "metadata": {},
     "output_type": "execute_result"
    }
   ],
   "source": [
    "doc_chain = load_qa_chain(\n",
    "    llm = llm,\n",
    "    chain_type = 'stuff',\n",
    "    prompt = PROMPT,\n",
    "    verbose = True\n",
    ")\n",
    "doc_chain"
   ]
  },
  {
   "cell_type": "code",
   "execution_count": 34,
   "metadata": {
    "scrolled": true
   },
   "outputs": [
    {
     "name": "stdout",
     "output_type": "stream",
     "text": [
      "\n",
      "\n",
      "\u001b[1m> Entering new StuffDocumentsChain chain...\u001b[0m\n",
      "\n",
      "\n",
      "\u001b[1m> Entering new LLMChain chain...\u001b[0m\n",
      "Prompt after formatting:\n",
      "\u001b[32;1m\u001b[1;3mWelcome to AITBot, your virtual assistant for all things related to the Asian Institute of Technology (AIT).\n",
      "    Whether you're a student, faculty member, or simply curious about AIT, I'm here to provide you with information and assistance.\n",
      "    Feel free to ask me anything about AIT, including its programs, research areas, campus facilities, and more.\n",
      "    I'll do my best to provide you with accurate and helpful answers to your inquiries.\n",
      "    So go ahead, ask me anything you'd like to know about AIT, and let's explore together!\n",
      "    Link: https://twitter.com/aitasia Document: This browser is no longer supported. Please switch to a\n",
      "supported browser to continue using twitter.com. You can see a list of supported browsers in our Help\n",
      "Center. Help Center Terms of Service Privacy Policy Cookie Policy Imprint Ads info © 2024 X Corp.\n",
      "\n",
      "1 Sheila Jay Demafeliz Wee Eng (GTE’86) Purchase GTE Laboratory equipment 2 Mr. Shih-Yi George\n",
      "Chen Purchase GTE Laboratory equipment 3 Mr. Chawalit Tanomtin Purchase GTE Laboratory\n",
      "equipment 4 Dr. Thumanoon Susumpow Purchase STE Laboratory equipment 5 Continue Reading\n",
      "Categories Transforming AIT AIT Faculty and Staff Donations Posted on July 3, 2020 June 30, 2022\n",
      "Categories Transforming AIT Search for: Search Office of Advancement and Alumni Affairs P.O. Box 4,\n",
      "58 M.9 Klong Neung Klong Luang, Pathumthani 12120 Thailand Tel: 0(+66)2524- 6318 and 6336\n",
      "Email: oaaa@ait.ac.th/ aru@ait.ac.th Copyright © 2024 AIT Fundraising Campaign . All Rights\n",
      "\n",
      "Weather and Hydrology Monitoring System 3 Mr. Tsai, Yau-Tang (WRE’72) To support WEM\n",
      "Automatic Weather and Hydrology Monitoring System 4 Assoc. Prof. Dr. Somchet Thinaphong To\n",
      "support WEM Automatic Weather and Hydrology Monitoring System 5 Mr. Khandaker Mesbah Uddin\n",
      "Ahmed To support WEM Automatic Weather and Hydrology Monitoring System Categories\n",
      "Transforming AIT Post navigation ← Previous Previous post: AIT Faculty and Staff Donations Next →\n",
      "Next post: AIT Digital Media Lab Leave a Reply Cancel reply Your email address will not be published.\n",
      "Required fields are marked * Comment Name * Email * Website Search for: Search Office of\n",
      "\n",
      "allocating the new equipment is 7,000,000 Baht. Direct Shear Test Triaxial Test Ring Shear Test\n",
      "Automatic Oedometer Test Universal Testing Machine Chlorimeter Xenon Arc Benefits to the Donors:\n",
      "(1) 200% tax allowance deduction concession (2) Participate in developing state-of-the-art laboratory\n",
      "facilities necessary to support laboratory testing services to the industry. (3) Enhance our student’s\n",
      "skills with modern laboratory equipment to prepare them to be career-ready. Contact: Office of\n",
      "Advancement and Alumni Affairs (OAAA) Asian Institute of Technology Tel: +66 2 524 6318 Email:\n",
      "lucena@ait.asia For more information: Geotechnical Laboratory Asian Institute of Technology Tel: +66\n",
      "    Question: What is Transformers?\n",
      "    Answer:\u001b[0m\n",
      "\n",
      "\u001b[1m> Finished chain.\u001b[0m\n",
      "\n",
      "\u001b[1m> Finished chain.\u001b[0m\n"
     ]
    },
    {
     "data": {
      "text/plain": [
       "{'input_documents': [Document(page_content='Link: https://twitter.com/aitasia Document: This browser is no longer supported. Please switch to a\\nsupported browser to continue using twitter.com. You can see a list of supported browsers in our Help\\nCenter. Help Center Terms of Service Privacy Policy Cookie Policy Imprint Ads info © 2024 X Corp.', metadata={'source': 'AIT_database\\\\Document_2.pdf', 'file_path': 'AIT_database\\\\Document_2.pdf', 'page': 0, 'total_pages': 1, 'format': 'PDF 1.4', 'title': '(anonymous)', 'author': '(anonymous)', 'subject': '(unspecified)', 'keywords': '', 'creator': '(unspecified)', 'producer': 'ReportLab PDF Library - www.reportlab.com', 'creationDate': \"D:20240320144950-07'00'\", 'modDate': \"D:20240320144950-07'00'\", 'trapped': ''}),\n",
       "  Document(page_content='1 Sheila Jay Demafeliz Wee Eng (GTE’86) Purchase GTE Laboratory equipment 2 Mr. Shih-Yi George\\nChen Purchase GTE Laboratory equipment 3 Mr. Chawalit Tanomtin Purchase GTE Laboratory\\nequipment 4 Dr. Thumanoon Susumpow Purchase STE Laboratory equipment 5 Continue Reading\\nCategories Transforming AIT AIT Faculty and Staff Donations Posted on July 3, 2020 June 30, 2022\\nCategories Transforming AIT Search for: Search Office of Advancement and Alumni Affairs P.O. Box 4,\\n58 M.9 Klong Neung Klong Luang, Pathumthani 12120 Thailand Tel: 0(+66)2524- 6318 and 6336\\nEmail: oaaa@ait.ac.th/ aru@ait.ac.th Copyright © 2024 AIT Fundraising Campaign . All Rights', metadata={'source': 'AIT_database\\\\Document_34.pdf', 'file_path': 'AIT_database\\\\Document_34.pdf', 'page': 0, 'total_pages': 1, 'format': 'PDF 1.4', 'title': '(anonymous)', 'author': '(anonymous)', 'subject': '(unspecified)', 'keywords': '', 'creator': '(unspecified)', 'producer': 'ReportLab PDF Library - www.reportlab.com', 'creationDate': \"D:20240320144950-07'00'\", 'modDate': \"D:20240320144950-07'00'\", 'trapped': ''}),\n",
       "  Document(page_content='Weather and Hydrology Monitoring System 3 Mr. Tsai, Yau-Tang (WRE’72) To support WEM\\nAutomatic Weather and Hydrology Monitoring System 4 Assoc. Prof. Dr. Somchet Thinaphong To\\nsupport WEM Automatic Weather and Hydrology Monitoring System 5 Mr. Khandaker Mesbah Uddin\\nAhmed To support WEM Automatic Weather and Hydrology Monitoring System Categories\\nTransforming AIT Post navigation ← Previous Previous post: AIT Faculty and Staff Donations Next →\\nNext post: AIT Digital Media Lab Leave a Reply Cancel reply Your email address will not be published.\\nRequired fields are marked * Comment Name * Email * Website Search for: Search Office of', metadata={'source': 'AIT_database\\\\Document_38.pdf', 'file_path': 'AIT_database\\\\Document_38.pdf', 'page': 0, 'total_pages': 1, 'format': 'PDF 1.4', 'title': '(anonymous)', 'author': '(anonymous)', 'subject': '(unspecified)', 'keywords': '', 'creator': '(unspecified)', 'producer': 'ReportLab PDF Library - www.reportlab.com', 'creationDate': \"D:20240320144950-07'00'\", 'modDate': \"D:20240320144950-07'00'\", 'trapped': ''}),\n",
       "  Document(page_content='allocating the new equipment is 7,000,000 Baht. Direct Shear Test Triaxial Test Ring Shear Test\\nAutomatic Oedometer Test Universal Testing Machine Chlorimeter Xenon Arc Benefits to the Donors:\\n(1) 200% tax allowance deduction concession (2) Participate in developing state-of-the-art laboratory\\nfacilities necessary to support laboratory testing services to the industry. (3) Enhance our student’s\\nskills with modern laboratory equipment to prepare them to be career-ready. Contact: Office of\\nAdvancement and Alumni Affairs (OAAA) Asian Institute of Technology Tel: +66 2 524 6318 Email:\\nlucena@ait.asia For more information: Geotechnical Laboratory Asian Institute of Technology Tel: +66', metadata={'source': 'AIT_database\\\\Document_7.pdf', 'file_path': 'AIT_database\\\\Document_7.pdf', 'page': 0, 'total_pages': 1, 'format': 'PDF 1.4', 'title': '(anonymous)', 'author': '(anonymous)', 'subject': '(unspecified)', 'keywords': '', 'creator': '(unspecified)', 'producer': 'ReportLab PDF Library - www.reportlab.com', 'creationDate': \"D:20240320144950-07'00'\", 'modDate': \"D:20240320144950-07'00'\", 'trapped': ''})],\n",
       " 'question': 'What is Transformers?',\n",
       " 'output_text': '<pad>  Transformers  are  electrical  devices  that  convert  one  form  of  electrical  energy  into  another.  They  are  used  in  various  applications  such  as  power  generation,  distribution,  and  storage.  Transformers  are  used  to  convert  alternating  current  (AC)  into  direct  current  (DC)  and  vice  versa.  They  are  used  in  various  industries  such  as  power  generation,  distribution,  and  storage.\\n'}"
      ]
     },
     "execution_count": 34,
     "metadata": {},
     "output_type": "execute_result"
    }
   ],
   "source": [
    "query = \"What is Transformers?\"\n",
    "input_document = retriever.get_relevant_documents(query)\n",
    "\n",
    "doc_chain({'input_documents':input_document, 'question':query})"
   ]
  },
  {
   "cell_type": "code",
   "execution_count": 35,
   "metadata": {},
   "outputs": [
    {
     "data": {
      "text/plain": [
       "ConversationalRetrievalChain(memory=ConversationBufferWindowMemory(output_key='answer', return_messages=True, memory_key='chat_history', k=3), verbose=True, combine_docs_chain=StuffDocumentsChain(verbose=True, llm_chain=LLMChain(verbose=True, prompt=PromptTemplate(input_variables=['context', 'question'], template=\"Welcome to AITBot, your virtual assistant for all things related to the Asian Institute of Technology (AIT).\\n    Whether you're a student, faculty member, or simply curious about AIT, I'm here to provide you with information and assistance.\\n    Feel free to ask me anything about AIT, including its programs, research areas, campus facilities, and more.\\n    I'll do my best to provide you with accurate and helpful answers to your inquiries.\\n    So go ahead, ask me anything you'd like to know about AIT, and let's explore together!\\n    {context}\\n    Question: {question}\\n    Answer:\"), llm=HuggingFacePipeline(pipeline=<transformers.pipelines.text2text_generation.Text2TextGenerationPipeline object at 0x000002B279560F90>)), document_variable_name='context'), question_generator=LLMChain(verbose=True, prompt=PromptTemplate(input_variables=['chat_history', 'question'], template='Given the following conversation and a follow up question, rephrase the follow up question to be a standalone question, in its original language.\\n\\nChat History:\\n{chat_history}\\nFollow Up Input: {question}\\nStandalone question:'), llm=HuggingFacePipeline(pipeline=<transformers.pipelines.text2text_generation.Text2TextGenerationPipeline object at 0x000002B279560F90>)), return_source_documents=True, get_chat_history=<function <lambda> at 0x000002B279151940>, retriever=VectorStoreRetriever(tags=['FAISS', 'HuggingFaceInstructEmbeddings'], vectorstore=<langchain_community.vectorstores.faiss.FAISS object at 0x000002B17C8C5290>))"
      ]
     },
     "execution_count": 35,
     "metadata": {},
     "output_type": "execute_result"
    }
   ],
   "source": [
    "memory = ConversationBufferWindowMemory(\n",
    "    k=3, \n",
    "    memory_key = \"chat_history\",\n",
    "    return_messages = True,\n",
    "    output_key = 'answer'\n",
    ")\n",
    "\n",
    "chain = ConversationalRetrievalChain(\n",
    "    retriever=retriever,\n",
    "    question_generator=question_generator,\n",
    "    combine_docs_chain=doc_chain,\n",
    "    return_source_documents=True,\n",
    "    memory=memory,\n",
    "    verbose=True,\n",
    "    get_chat_history=lambda h : h\n",
    ")\n",
    "chain"
   ]
  },
  {
   "attachments": {},
   "cell_type": "markdown",
   "metadata": {},
   "source": [
    "## 5. Chatbot"
   ]
  },
  {
   "cell_type": "code",
   "execution_count": 38,
   "metadata": {},
   "outputs": [
    {
     "name": "stdout",
     "output_type": "stream",
     "text": [
      "\n",
      "\n",
      "\u001b[1m> Entering new ConversationalRetrievalChain chain...\u001b[0m\n",
      "\n",
      "\n",
      "\u001b[1m> Entering new StuffDocumentsChain chain...\u001b[0m\n",
      "\n",
      "\n",
      "\u001b[1m> Entering new LLMChain chain...\u001b[0m\n",
      "Prompt after formatting:\n",
      "\u001b[32;1m\u001b[1;3mWelcome to AITBot, your virtual assistant for all things related to the Asian Institute of Technology (AIT).\n",
      "    Whether you're a student, faculty member, or simply curious about AIT, I'm here to provide you with information and assistance.\n",
      "    Feel free to ask me anything about AIT, including its programs, research areas, campus facilities, and more.\n",
      "    I'll do my best to provide you with accurate and helpful answers to your inquiries.\n",
      "    So go ahead, ask me anything you'd like to know about AIT, and let's explore together!\n",
      "    AIT places great emphasis on various issues of security for future population. Various research studies\n",
      "on campus now focus on securing stable food, energy and water resources to ensure sustainable\n",
      "future developments. Example a study in collaboration with the British Council and Loughborough\n",
      "University in UK on energy generation from daily food waste on campus, a framework for river health\n",
      "assessment in collaboration with Foundation for Integration of water Management (Thailand), and a\n",
      "study on the alternate wetting and drying rice farming method which can increase yields and reduce\n",
      "water consumption in rice farming. 4. Infrastructure : AIT has conducted many research projects in\n",
      "\n",
      "Accreditation Fund Student Exchange Scholarship Program Upgrading of the AIT International School\n",
      "Canteen Donors Contact Us Message from the AIT President Posted on February 20, 2019 February\n",
      "20, 2019 Author alumniaffairs As AIT celebrates its 60th Anniversary in 2019, it is an opportune\n",
      "moment to reflect upon the birth of AIT back in 1959 and to acknowledge the many accomplishments\n",
      "AIT achieved with great social impact to Asia over its illustrious history. AIT has been a shining\n",
      "example of international higher education in Asia, continually evolving to help graduates contribute to\n",
      "their communities through technology and management. We are more inspired than ever to accomplish\n",
      "\n",
      "Link: http://giving.ait.ac.th/ait-operational-usages/ Document: AIT Operational Usages – AIT\n",
      "Fundraising Campaign Skip to content AIT Fundraising Campaign Social Impact with Innovation Menu\n",
      "Primary menu AIT Transforming AIT AIT Five Key Thematic Areas Single Naming of AIT Conference\n",
      "Center (AITCC): A Complete Renovation Naming Opportunities & Donor Recognition How to Donate\n",
      "GTE laboratory campaign AIT Alumni Scholarships/Student Exchange/School Lab Fund AIT Alumni\n",
      "Scholarship Fund Student Conference Fund Scholarships, Lab Equipment and Campus Facilities SOM\n",
      "Accreditation Fund Student Exchange Scholarship Program Upgrading of the AIT International School\n",
      "\n",
      "Fund Student Exchange Scholarship Program Upgrading of the AIT International School Canteen\n",
      "Donors Contact Us Category: Message Message from the AIT President Posted on February 20, 2019\n",
      "February 20, 2019 As AIT celebrates its 60th Anniversary in 2019, it is an opportune moment to reflect\n",
      "upon the birth of AIT back in 1959 and to acknowledge the many accomplishments AIT achieved with\n",
      "great social impact to Asia over its illustrious Continue Reading Categories Message Search for:\n",
      "Search Office of Advancement and Alumni Affairs P.O. Box 4, 58 M.9 Klong Neung Klong Luang,\n",
      "Pathumthani 12120 Thailand Tel: 0(+66)2524- 6318 and 6336 Email: oaaa@ait.ac.th/ aru@ait.ac.th\n",
      "    Question: What is AIT?\n",
      "    Answer:\u001b[0m\n",
      "\n",
      "\u001b[1m> Finished chain.\u001b[0m\n",
      "\n",
      "\u001b[1m> Finished chain.\u001b[0m\n",
      "\n",
      "\u001b[1m> Finished chain.\u001b[0m\n"
     ]
    },
    {
     "data": {
      "text/plain": [
       "{'question': 'What is AIT?',\n",
       " 'chat_history': [],\n",
       " 'answer': '<pad>  Asian  Institute  of  Technology  (AIT)  is  a  private  university  located  in  Bangkok,  Thailand.  It  was  founded  in  1959  and  is  known  for  its  innovative  programs  in  engineering,  management,  and  technology.  AIT  offers  undergraduate  and  graduate  programs  in  various  fields,  including  engineering,  management,  and  technology.  The  university  also  offers  a  number  of  programs  in  business  and  management,  as  well  as  a  number  of  programs  in  the  arts  and  humanities.  AIT  is  known  for  its  commitment  to  social  impact  and  its  focus  on  sustainability  and  environmental  sustainability.\\n',\n",
       " 'source_documents': [Document(page_content='AIT places great emphasis on various issues of security for future population. Various research studies\\non campus now focus on securing stable food, energy and water resources to ensure sustainable\\nfuture developments. Example a study in collaboration with the British Council and Loughborough\\nUniversity in UK on energy generation from daily food waste on campus, a framework for river health\\nassessment in collaboration with Foundation for Integration of water Management (Thailand), and a\\nstudy on the alternate wetting and drying rice farming method which can increase yields and reduce\\nwater consumption in rice farming. 4. Infrastructure : AIT has conducted many research projects in', metadata={'source': 'AIT_database\\\\Document_4.pdf', 'file_path': 'AIT_database\\\\Document_4.pdf', 'page': 0, 'total_pages': 1, 'format': 'PDF 1.4', 'title': '(anonymous)', 'author': '(anonymous)', 'subject': '(unspecified)', 'keywords': '', 'creator': '(unspecified)', 'producer': 'ReportLab PDF Library - www.reportlab.com', 'creationDate': \"D:20240320144950-07'00'\", 'modDate': \"D:20240320144950-07'00'\", 'trapped': ''}),\n",
       "  Document(page_content='Accreditation Fund Student Exchange Scholarship Program Upgrading of the AIT International School\\nCanteen Donors Contact Us Message from the AIT President Posted on February 20, 2019 February\\n20, 2019 Author alumniaffairs As AIT celebrates its 60th Anniversary in 2019, it is an opportune\\nmoment to reflect upon the birth of AIT back in 1959 and to acknowledge the many accomplishments\\nAIT achieved with great social impact to Asia over its illustrious history. AIT has been a shining\\nexample of international higher education in Asia, continually evolving to help graduates contribute to\\ntheir communities through technology and management. We are more inspired than ever to accomplish', metadata={'source': 'AIT_database\\\\Document_40.pdf', 'file_path': 'AIT_database\\\\Document_40.pdf', 'page': 0, 'total_pages': 1, 'format': 'PDF 1.4', 'title': '(anonymous)', 'author': '(anonymous)', 'subject': '(unspecified)', 'keywords': '', 'creator': '(unspecified)', 'producer': 'ReportLab PDF Library - www.reportlab.com', 'creationDate': \"D:20240320144950-07'00'\", 'modDate': \"D:20240320144950-07'00'\", 'trapped': ''}),\n",
       "  Document(page_content='Link: http://giving.ait.ac.th/ait-operational-usages/ Document: AIT Operational Usages – AIT\\nFundraising Campaign Skip to content AIT Fundraising Campaign Social Impact with Innovation Menu\\nPrimary menu AIT Transforming AIT AIT Five Key Thematic Areas Single Naming of AIT Conference\\nCenter (AITCC): A Complete Renovation Naming Opportunities & Donor Recognition How to Donate\\nGTE laboratory campaign AIT Alumni Scholarships/Student Exchange/School Lab Fund AIT Alumni\\nScholarship Fund Student Conference Fund Scholarships, Lab Equipment and Campus Facilities SOM\\nAccreditation Fund Student Exchange Scholarship Program Upgrading of the AIT International School', metadata={'source': 'AIT_database\\\\Document_22.pdf', 'file_path': 'AIT_database\\\\Document_22.pdf', 'page': 0, 'total_pages': 1, 'format': 'PDF 1.4', 'title': '(anonymous)', 'author': '(anonymous)', 'subject': '(unspecified)', 'keywords': '', 'creator': '(unspecified)', 'producer': 'ReportLab PDF Library - www.reportlab.com', 'creationDate': \"D:20240320144950-07'00'\", 'modDate': \"D:20240320144950-07'00'\", 'trapped': ''}),\n",
       "  Document(page_content='Fund Student Exchange Scholarship Program Upgrading of the AIT International School Canteen\\nDonors Contact Us Category: Message Message from the AIT President Posted on February 20, 2019\\nFebruary 20, 2019 As AIT celebrates its 60th Anniversary in 2019, it is an opportune moment to reflect\\nupon the birth of AIT back in 1959 and to acknowledge the many accomplishments AIT achieved with\\ngreat social impact to Asia over its illustrious Continue Reading Categories Message Search for:\\nSearch Office of Advancement and Alumni Affairs P.O. Box 4, 58 M.9 Klong Neung Klong Luang,\\nPathumthani 12120 Thailand Tel: 0(+66)2524- 6318 and 6336 Email: oaaa@ait.ac.th/ aru@ait.ac.th', metadata={'source': 'AIT_database\\\\Document_41.pdf', 'file_path': 'AIT_database\\\\Document_41.pdf', 'page': 0, 'total_pages': 1, 'format': 'PDF 1.4', 'title': '(anonymous)', 'author': '(anonymous)', 'subject': '(unspecified)', 'keywords': '', 'creator': '(unspecified)', 'producer': 'ReportLab PDF Library - www.reportlab.com', 'creationDate': \"D:20240320144950-07'00'\", 'modDate': \"D:20240320144950-07'00'\", 'trapped': ''})]}"
      ]
     },
     "execution_count": 38,
     "metadata": {},
     "output_type": "execute_result"
    }
   ],
   "source": [
    "prompt_question = \"What is AIT?\"\n",
    "answer = chain({\"question\":prompt_question})\n",
    "answer"
   ]
  },
  {
   "cell_type": "code",
   "execution_count": 39,
   "metadata": {},
   "outputs": [
    {
     "name": "stdout",
     "output_type": "stream",
     "text": [
      "\n",
      "\n",
      "\u001b[1m> Entering new ConversationalRetrievalChain chain...\u001b[0m\n",
      "\n",
      "\n",
      "\u001b[1m> Entering new LLMChain chain...\u001b[0m\n",
      "Prompt after formatting:\n",
      "\u001b[32;1m\u001b[1;3mGiven the following conversation and a follow up question, rephrase the follow up question to be a standalone question, in its original language.\n",
      "\n",
      "Chat History:\n",
      "[HumanMessage(content='What is AIT?'), AIMessage(content='<pad>  Asian  Institute  of  Technology  (AIT)  is  a  private  university  located  in  Bangkok,  Thailand.  It  was  founded  in  1959  and  is  known  for  its  innovative  programs  in  engineering,  management,  and  technology.  AIT  offers  undergraduate  and  graduate  programs  in  various  fields,  including  engineering,  management,  and  technology.  The  university  also  offers  a  number  of  programs  in  business  and  management,  as  well  as  a  number  of  programs  in  the  arts  and  humanities.  AIT  is  known  for  its  commitment  to  social  impact  and  its  focus  on  sustainability  and  environmental  sustainability.\\n')]\n",
      "Follow Up Input: What scholarships does AIT offer?\n",
      "Standalone question:\u001b[0m\n",
      "\n",
      "\u001b[1m> Finished chain.\u001b[0m\n",
      "\n",
      "\n",
      "\u001b[1m> Entering new StuffDocumentsChain chain...\u001b[0m\n",
      "\n",
      "\n",
      "\u001b[1m> Entering new LLMChain chain...\u001b[0m\n",
      "Prompt after formatting:\n",
      "\u001b[32;1m\u001b[1;3mWelcome to AITBot, your virtual assistant for all things related to the Asian Institute of Technology (AIT).\n",
      "    Whether you're a student, faculty member, or simply curious about AIT, I'm here to provide you with information and assistance.\n",
      "    Feel free to ask me anything about AIT, including its programs, research areas, campus facilities, and more.\n",
      "    I'll do my best to provide you with accurate and helpful answers to your inquiries.\n",
      "    So go ahead, ask me anything you'd like to know about AIT, and let's explore together!\n",
      "    on their careers. This has led us to have a strong alumni network spanning over 100+ countries who\n",
      "are more than willing to give back to their alma mater and thereby staying connected with AIT. Institute\n",
      "Fundraising Campaigns presently launched includes academic scholarships, student exchange\n",
      "scholarships, renovating student dormitories and school laboratory facilities etc, through the generous\n",
      "donations of our benefactors that includes individual Alumni, Alumni National Chapters and Private\n",
      "Corporates. If you are already a donor, thank you for your kind generosity and confidence in the\n",
      "mission of AIT! If you wish to join our efforts and learn more about the benefits of supporting AIT,\n",
      "\n",
      "Accreditation Fund Student Exchange Scholarship Program Upgrading of the AIT International School\n",
      "Canteen Donors Contact Us Message from the AIT President Posted on February 20, 2019 February\n",
      "20, 2019 Author alumniaffairs As AIT celebrates its 60th Anniversary in 2019, it is an opportune\n",
      "moment to reflect upon the birth of AIT back in 1959 and to acknowledge the many accomplishments\n",
      "AIT achieved with great social impact to Asia over its illustrious history. AIT has been a shining\n",
      "example of international higher education in Asia, continually evolving to help graduates contribute to\n",
      "their communities through technology and management. We are more inspired than ever to accomplish\n",
      "\n",
      "Fund Student Exchange Scholarship Program Upgrading of the AIT International School Canteen\n",
      "Donors Contact Us Category: Message Message from the AIT President Posted on February 20, 2019\n",
      "February 20, 2019 As AIT celebrates its 60th Anniversary in 2019, it is an opportune moment to reflect\n",
      "upon the birth of AIT back in 1959 and to acknowledge the many accomplishments AIT achieved with\n",
      "great social impact to Asia over its illustrious Continue Reading Categories Message Search for:\n",
      "Search Office of Advancement and Alumni Affairs P.O. Box 4, 58 M.9 Klong Neung Klong Luang,\n",
      "Pathumthani 12120 Thailand Tel: 0(+66)2524- 6318 and 6336 Email: oaaa@ait.ac.th/ aru@ait.ac.th\n",
      "\n",
      "Equipment and Campus Facilities SOM Accreditation Fund Student Exchange Scholarship Program\n",
      "Upgrading of the AIT International School Canteen Donors Contact Us Scholarships, Lab Equipment\n",
      "and Campus Facilities Donation Pledge for Scholarships, Lab Equipment and Campus Facilities Name\n",
      "of Donor (required) Address (required) City (required) State or Province (required) Zipcode (required)\n",
      "Country (required) Email (required) Telephone (required) Thai Tax ID (In case you do not have Thai\n",
      "Tax ID, please type \"000\") Yes, I hereby pledge to make a contribution to support AIT!\n",
      "SCHOLARSHIPS THB 1,200,000 - Named One Full Master Scholarship (Covering tuition and\n",
      "    Question: <pad> What  scholarships  does  AIT  offer?\n",
      "\n",
      "    Answer:\u001b[0m\n",
      "\n",
      "\u001b[1m> Finished chain.\u001b[0m\n",
      "\n",
      "\u001b[1m> Finished chain.\u001b[0m\n",
      "\n",
      "\u001b[1m> Finished chain.\u001b[0m\n"
     ]
    },
    {
     "data": {
      "text/plain": [
       "{'question': 'What scholarships does AIT offer?',\n",
       " 'chat_history': [HumanMessage(content='What is AIT?'),\n",
       "  AIMessage(content='<pad>  Asian  Institute  of  Technology  (AIT)  is  a  private  university  located  in  Bangkok,  Thailand.  It  was  founded  in  1959  and  is  known  for  its  innovative  programs  in  engineering,  management,  and  technology.  AIT  offers  undergraduate  and  graduate  programs  in  various  fields,  including  engineering,  management,  and  technology.  The  university  also  offers  a  number  of  programs  in  business  and  management,  as  well  as  a  number  of  programs  in  the  arts  and  humanities.  AIT  is  known  for  its  commitment  to  social  impact  and  its  focus  on  sustainability  and  environmental  sustainability.\\n')],\n",
       " 'answer': \"<pad> < pad>  AIT  offers  several  scholarships  to  students  who  are  interested  in  pursuing  a  Master's  degree  program.  Some  of  the  scholarships  offered  by  AIT  include:\\n 1.  Full  Master  Scholarship:  THB  1,200,000  -  Named  One  Full  Master  Scholarship  (Covering  tuition  and  living  expenses)\\n 2.  International  Student  Scholarship:  THB  1,200,000  -  Named  One  International  Student  Scholarship  (Covering  tuition  and  living  expenses)\\n 3.  AIT  Foundation  Scholarship:  THB  1,200,000  -  Named  One  AIT  Foundation  Scholarship  (Covering  tuition  and  living  expenses)\\n 4.  AIT  International  Student  Scholarship:  THB  1,200,000  -  Named  One  International  Student  Scholarship  (Covering  tuition  and  living  expenses)\\n 5.  AIT  International  Student  Scholarship  Program:  THB  1,200,000 \",\n",
       " 'source_documents': [Document(page_content='on their careers. This has led us to have a strong alumni network spanning over 100+ countries who\\nare more than willing to give back to their alma mater and thereby staying connected with AIT. Institute\\nFundraising Campaigns presently launched includes academic scholarships, student exchange\\nscholarships, renovating student dormitories and school laboratory facilities etc, through the generous\\ndonations of our benefactors that includes individual Alumni, Alumni National Chapters and Private\\nCorporates. If you are already a donor, thank you for your kind generosity and confidence in the\\nmission of AIT! If you wish to join our efforts and learn more about the benefits of supporting AIT,', metadata={'source': 'AIT_database\\\\Document_1.pdf', 'file_path': 'AIT_database\\\\Document_1.pdf', 'page': 0, 'total_pages': 2, 'format': 'PDF 1.4', 'title': '(anonymous)', 'author': '(anonymous)', 'subject': '(unspecified)', 'keywords': '', 'creator': '(unspecified)', 'producer': 'ReportLab PDF Library - www.reportlab.com', 'creationDate': \"D:20240320144950-07'00'\", 'modDate': \"D:20240320144950-07'00'\", 'trapped': ''}),\n",
       "  Document(page_content='Accreditation Fund Student Exchange Scholarship Program Upgrading of the AIT International School\\nCanteen Donors Contact Us Message from the AIT President Posted on February 20, 2019 February\\n20, 2019 Author alumniaffairs As AIT celebrates its 60th Anniversary in 2019, it is an opportune\\nmoment to reflect upon the birth of AIT back in 1959 and to acknowledge the many accomplishments\\nAIT achieved with great social impact to Asia over its illustrious history. AIT has been a shining\\nexample of international higher education in Asia, continually evolving to help graduates contribute to\\ntheir communities through technology and management. We are more inspired than ever to accomplish', metadata={'source': 'AIT_database\\\\Document_40.pdf', 'file_path': 'AIT_database\\\\Document_40.pdf', 'page': 0, 'total_pages': 1, 'format': 'PDF 1.4', 'title': '(anonymous)', 'author': '(anonymous)', 'subject': '(unspecified)', 'keywords': '', 'creator': '(unspecified)', 'producer': 'ReportLab PDF Library - www.reportlab.com', 'creationDate': \"D:20240320144950-07'00'\", 'modDate': \"D:20240320144950-07'00'\", 'trapped': ''}),\n",
       "  Document(page_content='Fund Student Exchange Scholarship Program Upgrading of the AIT International School Canteen\\nDonors Contact Us Category: Message Message from the AIT President Posted on February 20, 2019\\nFebruary 20, 2019 As AIT celebrates its 60th Anniversary in 2019, it is an opportune moment to reflect\\nupon the birth of AIT back in 1959 and to acknowledge the many accomplishments AIT achieved with\\ngreat social impact to Asia over its illustrious Continue Reading Categories Message Search for:\\nSearch Office of Advancement and Alumni Affairs P.O. Box 4, 58 M.9 Klong Neung Klong Luang,\\nPathumthani 12120 Thailand Tel: 0(+66)2524- 6318 and 6336 Email: oaaa@ait.ac.th/ aru@ait.ac.th', metadata={'source': 'AIT_database\\\\Document_41.pdf', 'file_path': 'AIT_database\\\\Document_41.pdf', 'page': 0, 'total_pages': 1, 'format': 'PDF 1.4', 'title': '(anonymous)', 'author': '(anonymous)', 'subject': '(unspecified)', 'keywords': '', 'creator': '(unspecified)', 'producer': 'ReportLab PDF Library - www.reportlab.com', 'creationDate': \"D:20240320144950-07'00'\", 'modDate': \"D:20240320144950-07'00'\", 'trapped': ''}),\n",
       "  Document(page_content='Equipment and Campus Facilities SOM Accreditation Fund Student Exchange Scholarship Program\\nUpgrading of the AIT International School Canteen Donors Contact Us Scholarships, Lab Equipment\\nand Campus Facilities Donation Pledge for Scholarships, Lab Equipment and Campus Facilities Name\\nof Donor (required) Address (required) City (required) State or Province (required) Zipcode (required)\\nCountry (required) Email (required) Telephone (required) Thai Tax ID (In case you do not have Thai\\nTax ID, please type \"000\") Yes, I hereby pledge to make a contribution to support AIT!\\nSCHOLARSHIPS THB 1,200,000 - Named One Full Master Scholarship (Covering tuition and', metadata={'source': 'AIT_database\\\\Document_11.pdf', 'file_path': 'AIT_database\\\\Document_11.pdf', 'page': 0, 'total_pages': 1, 'format': 'PDF 1.4', 'title': '(anonymous)', 'author': '(anonymous)', 'subject': '(unspecified)', 'keywords': '', 'creator': '(unspecified)', 'producer': 'ReportLab PDF Library - www.reportlab.com', 'creationDate': \"D:20240320144950-07'00'\", 'modDate': \"D:20240320144950-07'00'\", 'trapped': ''})]}"
      ]
     },
     "execution_count": 39,
     "metadata": {},
     "output_type": "execute_result"
    }
   ],
   "source": [
    "prompt_question = \"What scholarships does AIT offer?\"\n",
    "answer = chain({\"question\":prompt_question})\n",
    "answer"
   ]
  }
 ],
 "metadata": {
  "kernelspec": {
   "display_name": "Python 3 (ipykernel)",
   "language": "python",
   "name": "python3"
  },
  "language_info": {
   "codemirror_mode": {
    "name": "ipython",
    "version": 3
   },
   "file_extension": ".py",
   "mimetype": "text/x-python",
   "name": "python",
   "nbconvert_exporter": "python",
   "pygments_lexer": "ipython3",
   "version": "3.11.8"
  }
 },
 "nbformat": 4,
 "nbformat_minor": 4
}
